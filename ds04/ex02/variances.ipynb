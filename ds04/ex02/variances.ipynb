{
 "cells": [
  {
   "cell_type": "code",
   "execution_count": 1,
   "id": "6b496a39",
   "metadata": {},
   "outputs": [
    {
     "name": "stdout",
     "output_type": "stream",
     "text": [
      "Requirement already satisfied: pandas in /opt/conda/lib/python3.12/site-packages (2.2.3)\n",
      "Requirement already satisfied: matplotlib in /opt/conda/lib/python3.12/site-packages (3.10.1)\n",
      "Requirement already satisfied: seaborn in /opt/conda/lib/python3.12/site-packages (0.13.2)\n",
      "Requirement already satisfied: numpy>=1.26.0 in /opt/conda/lib/python3.12/site-packages (from pandas) (2.2.5)\n",
      "Requirement already satisfied: python-dateutil>=2.8.2 in /opt/conda/lib/python3.12/site-packages (from pandas) (2.9.0.post0)\n",
      "Requirement already satisfied: pytz>=2020.1 in /opt/conda/lib/python3.12/site-packages (from pandas) (2025.2)\n",
      "Requirement already satisfied: tzdata>=2022.7 in /opt/conda/lib/python3.12/site-packages (from pandas) (2025.2)\n",
      "Requirement already satisfied: contourpy>=1.0.1 in /opt/conda/lib/python3.12/site-packages (from matplotlib) (1.3.2)\n",
      "Requirement already satisfied: cycler>=0.10 in /opt/conda/lib/python3.12/site-packages (from matplotlib) (0.12.1)\n",
      "Requirement already satisfied: fonttools>=4.22.0 in /opt/conda/lib/python3.12/site-packages (from matplotlib) (4.57.0)\n",
      "Requirement already satisfied: kiwisolver>=1.3.1 in /opt/conda/lib/python3.12/site-packages (from matplotlib) (1.4.8)\n",
      "Requirement already satisfied: packaging>=20.0 in /opt/conda/lib/python3.12/site-packages (from matplotlib) (25.0)\n",
      "Requirement already satisfied: pillow>=8 in /opt/conda/lib/python3.12/site-packages (from matplotlib) (11.2.1)\n",
      "Requirement already satisfied: pyparsing>=2.3.1 in /opt/conda/lib/python3.12/site-packages (from matplotlib) (3.2.3)\n",
      "Requirement already satisfied: six>=1.5 in /opt/conda/lib/python3.12/site-packages (from python-dateutil>=2.8.2->pandas) (1.17.0)\n",
      "Note: you may need to restart the kernel to use updated packages.\n"
     ]
    }
   ],
   "source": [
    "%pip install pandas matplotlib seaborn"
   ]
  },
  {
   "cell_type": "code",
   "execution_count": 2,
   "id": "8b541283",
   "metadata": {},
   "outputs": [],
   "source": [
    "import pandas as pd\n",
    "from sklearn.preprocessing import StandardScaler\n",
    "from sklearn.decomposition import PCA\n",
    "import matplotlib.pyplot as plt\n",
    "import numpy as np\n",
    "import os"
   ]
  },
  {
   "cell_type": "code",
   "execution_count": 3,
   "id": "d79d4965",
   "metadata": {},
   "outputs": [
    {
     "data": {
      "text/html": [
       "<div>\n",
       "<style scoped>\n",
       "    .dataframe tbody tr th:only-of-type {\n",
       "        vertical-align: middle;\n",
       "    }\n",
       "\n",
       "    .dataframe tbody tr th {\n",
       "        vertical-align: top;\n",
       "    }\n",
       "\n",
       "    .dataframe thead th {\n",
       "        text-align: right;\n",
       "    }\n",
       "</style>\n",
       "<table border=\"1\" class=\"dataframe\">\n",
       "  <thead>\n",
       "    <tr style=\"text-align: right;\">\n",
       "      <th></th>\n",
       "      <th>Sensitivity</th>\n",
       "      <th>Hability</th>\n",
       "      <th>Strength</th>\n",
       "      <th>Power</th>\n",
       "      <th>Agility</th>\n",
       "      <th>Dexterity</th>\n",
       "      <th>Awareness</th>\n",
       "      <th>Prescience</th>\n",
       "      <th>Reactivity</th>\n",
       "      <th>Midi-chlorien</th>\n",
       "      <th>...</th>\n",
       "      <th>Evade</th>\n",
       "      <th>Stims</th>\n",
       "      <th>Sprint</th>\n",
       "      <th>Combo</th>\n",
       "      <th>Delay</th>\n",
       "      <th>Attunement</th>\n",
       "      <th>Empowered</th>\n",
       "      <th>Burst</th>\n",
       "      <th>Grasping</th>\n",
       "      <th>knight</th>\n",
       "    </tr>\n",
       "  </thead>\n",
       "  <tbody>\n",
       "    <tr>\n",
       "      <th>0</th>\n",
       "      <td>11.80</td>\n",
       "      <td>17.26</td>\n",
       "      <td>75.26</td>\n",
       "      <td>431.9</td>\n",
       "      <td>0.09087</td>\n",
       "      <td>0.06232</td>\n",
       "      <td>0.02853</td>\n",
       "      <td>0.01638</td>\n",
       "      <td>0.1847</td>\n",
       "      <td>0.06019</td>\n",
       "      <td>...</td>\n",
       "      <td>24.49</td>\n",
       "      <td>86.00</td>\n",
       "      <td>562.0</td>\n",
       "      <td>0.1244</td>\n",
       "      <td>0.1726</td>\n",
       "      <td>0.1449</td>\n",
       "      <td>0.05356</td>\n",
       "      <td>0.2779</td>\n",
       "      <td>0.08121</td>\n",
       "      <td>Sith</td>\n",
       "    </tr>\n",
       "    <tr>\n",
       "      <th>1</th>\n",
       "      <td>19.81</td>\n",
       "      <td>22.15</td>\n",
       "      <td>130.00</td>\n",
       "      <td>1260.0</td>\n",
       "      <td>0.09831</td>\n",
       "      <td>0.10270</td>\n",
       "      <td>0.14790</td>\n",
       "      <td>0.09498</td>\n",
       "      <td>0.1582</td>\n",
       "      <td>0.05395</td>\n",
       "      <td>...</td>\n",
       "      <td>30.88</td>\n",
       "      <td>186.80</td>\n",
       "      <td>2398.0</td>\n",
       "      <td>0.1512</td>\n",
       "      <td>0.3150</td>\n",
       "      <td>0.5372</td>\n",
       "      <td>0.23880</td>\n",
       "      <td>0.2768</td>\n",
       "      <td>0.07615</td>\n",
       "      <td>Jedi</td>\n",
       "    </tr>\n",
       "    <tr>\n",
       "      <th>2</th>\n",
       "      <td>10.97</td>\n",
       "      <td>17.20</td>\n",
       "      <td>71.73</td>\n",
       "      <td>371.5</td>\n",
       "      <td>0.08915</td>\n",
       "      <td>0.11130</td>\n",
       "      <td>0.09457</td>\n",
       "      <td>0.03613</td>\n",
       "      <td>0.1489</td>\n",
       "      <td>0.06640</td>\n",
       "      <td>...</td>\n",
       "      <td>26.87</td>\n",
       "      <td>90.14</td>\n",
       "      <td>476.4</td>\n",
       "      <td>0.1391</td>\n",
       "      <td>0.4082</td>\n",
       "      <td>0.4779</td>\n",
       "      <td>0.15550</td>\n",
       "      <td>0.2540</td>\n",
       "      <td>0.09532</td>\n",
       "      <td>Sith</td>\n",
       "    </tr>\n",
       "  </tbody>\n",
       "</table>\n",
       "<p>3 rows × 31 columns</p>\n",
       "</div>"
      ],
      "text/plain": [
       "   Sensitivity  Hability  Strength   Power  Agility  Dexterity  Awareness  \\\n",
       "0        11.80     17.26     75.26   431.9  0.09087    0.06232    0.02853   \n",
       "1        19.81     22.15    130.00  1260.0  0.09831    0.10270    0.14790   \n",
       "2        10.97     17.20     71.73   371.5  0.08915    0.11130    0.09457   \n",
       "\n",
       "   Prescience  Reactivity  Midi-chlorien  ...  Evade   Stims  Sprint   Combo  \\\n",
       "0     0.01638      0.1847        0.06019  ...  24.49   86.00   562.0  0.1244   \n",
       "1     0.09498      0.1582        0.05395  ...  30.88  186.80  2398.0  0.1512   \n",
       "2     0.03613      0.1489        0.06640  ...  26.87   90.14   476.4  0.1391   \n",
       "\n",
       "    Delay  Attunement  Empowered   Burst  Grasping  knight  \n",
       "0  0.1726      0.1449    0.05356  0.2779   0.08121    Sith  \n",
       "1  0.3150      0.5372    0.23880  0.2768   0.07615    Jedi  \n",
       "2  0.4082      0.4779    0.15550  0.2540   0.09532    Sith  \n",
       "\n",
       "[3 rows x 31 columns]"
      ]
     },
     "execution_count": 3,
     "metadata": {},
     "output_type": "execute_result"
    }
   ],
   "source": [
    "train_filename = os.path.join(os.getcwd(), 'ds04/assets/Train_knight.csv')\n",
    "train_df = pd.read_csv(train_filename)\n",
    "train_df.set_index('knight')\n",
    "train_df.head(3)"
   ]
  },
  {
   "cell_type": "code",
   "execution_count": 4,
   "id": "6571978b",
   "metadata": {},
   "outputs": [
    {
     "name": "stdout",
     "output_type": "stream",
     "text": [
      "Variances (Percentage):\n",
      "[4.42124322e+01 1.83133809e+01 9.86939994e+00 6.44725649e+00\n",
      " 5.48418978e+00 3.86419671e+00 2.40371418e+00 1.86115266e+00\n",
      " 1.42841975e+00 1.14635004e+00 1.03990775e+00 9.15659049e-01\n",
      " 8.25582942e-01 4.49675980e-01 3.24922360e-01 2.80700452e-01\n",
      " 2.22879421e-01 1.99287079e-01 1.59928087e-01 1.12338278e-01\n",
      " 1.11953696e-01 8.29193824e-02 7.91693696e-02 5.73407566e-02\n",
      " 5.14260951e-02 2.68407149e-02 2.06171597e-02 5.70303169e-03\n",
      " 2.27265764e-03 3.83020159e-04]\n",
      "\n",
      "Cumulative Variances (Percentage):\n",
      "[ 44.21243224  62.52581316  72.3952131   78.84246959  84.32665937\n",
      "  88.19085608  90.59457026  92.45572292  93.88414267  95.03049271\n",
      "  96.07040047  96.98605952  97.81164246  98.26131844  98.5862408\n",
      "  98.86694125  99.08982067  99.28910775  99.44903584  99.56137412\n",
      "  99.67332781  99.75624719  99.83541656  99.89275732  99.94418342\n",
      "  99.97102413  99.99164129  99.99734432  99.99961698 100.        ]\n"
     ]
    }
   ],
   "source": [
    "df = train_df.copy()\n",
    "X = df.drop(columns=['knight'])\n",
    "\n",
    "# Step 2: Standardize the data\n",
    "scaler = StandardScaler()\n",
    "X_scaled = scaler.fit_transform(X)\n",
    "\n",
    "# Step 3: Apply PCA\n",
    "pca = PCA()\n",
    "pca.fit(X_scaled)\n",
    "\n",
    "# Step 4: Explained variance ratio\n",
    "explained_variance = pca.explained_variance_ratio_ * 100\n",
    "cumulative_variance = np.cumsum(explained_variance)\n",
    "\n",
    "# Step 5: Print results\n",
    "print(\"Variances (Percentage):\")\n",
    "print(explained_variance)\n",
    "print()\n",
    "print(\"Cumulative Variances (Percentage):\")\n",
    "print(cumulative_variance)"
   ]
  },
  {
   "cell_type": "code",
   "execution_count": 5,
   "id": "9a2670c0",
   "metadata": {},
   "outputs": [
    {
     "data": {
      "image/png": "[encoded data removed]",
      "text/plain": [
       "<Figure size 1000x500 with 1 Axes>"
      ]
     },
     "metadata": {},
     "output_type": "display_data"
    }
   ],
   "source": [
    "plt.figure(figsize=(10, 5))\n",
    "plt.plot(range(1, len(cumulative_variance)+1), cumulative_variance)\n",
    "plt.axhline(y=90, color='r', linestyle='--', label='90% Threshold')\n",
    "plt.title('Cumulative Explained Variance')\n",
    "plt.xlabel('Number of Principal Components')\n",
    "plt.ylabel('Cumulative Variance (%)')\n",
    "plt.grid(True)\n",
    "plt.legend()\n",
    "plt.tight_layout()\n",
    "plt.show()"
   ]
  }
 ],
 "metadata": {
  "kernelspec": {
   "display_name": "Python 3 (ipykernel)",
   "language": "python",
   "name": "python3"
  },
  "language_info": {
   "codemirror_mode": {
    "name": "ipython",
    "version": 3
   },
   "file_extension": ".py",
   "mimetype": "text/x-python",
   "name": "python",
   "nbconvert_exporter": "python",
   "pygments_lexer": "ipython3",
   "version": "3.12.10"
  }
 },
 "nbformat": 4,
 "nbformat_minor": 5
}
