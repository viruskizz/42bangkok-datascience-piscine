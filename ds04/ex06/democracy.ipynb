{
 "cells": [
  {
   "cell_type": "code",
   "execution_count": 12,
   "id": "28f65676",
   "metadata": {},
   "outputs": [
    {
     "name": "stdout",
     "output_type": "stream",
     "text": [
      "Requirement already satisfied: pandas in /opt/conda/lib/python3.12/site-packages (2.2.3)\n",
      "Requirement already satisfied: matplotlib in /opt/conda/lib/python3.12/site-packages (3.10.1)\n",
      "Requirement already satisfied: seaborn in /opt/conda/lib/python3.12/site-packages (0.13.2)\n",
      "Requirement already satisfied: statsmodels in /opt/conda/lib/python3.12/site-packages (0.14.4)\n",
      "Requirement already satisfied: numpy>=1.26.0 in /opt/conda/lib/python3.12/site-packages (from pandas) (2.2.5)\n",
      "Requirement already satisfied: python-dateutil>=2.8.2 in /opt/conda/lib/python3.12/site-packages (from pandas) (2.9.0.post0)\n",
      "Requirement already satisfied: pytz>=2020.1 in /opt/conda/lib/python3.12/site-packages (from pandas) (2025.2)\n",
      "Requirement already satisfied: tzdata>=2022.7 in /opt/conda/lib/python3.12/site-packages (from pandas) (2025.2)\n",
      "Requirement already satisfied: contourpy>=1.0.1 in /opt/conda/lib/python3.12/site-packages (from matplotlib) (1.3.2)\n",
      "Requirement already satisfied: cycler>=0.10 in /opt/conda/lib/python3.12/site-packages (from matplotlib) (0.12.1)\n",
      "Requirement already satisfied: fonttools>=4.22.0 in /opt/conda/lib/python3.12/site-packages (from matplotlib) (4.57.0)\n",
      "Requirement already satisfied: kiwisolver>=1.3.1 in /opt/conda/lib/python3.12/site-packages (from matplotlib) (1.4.8)\n",
      "Requirement already satisfied: packaging>=20.0 in /opt/conda/lib/python3.12/site-packages (from matplotlib) (25.0)\n",
      "Requirement already satisfied: pillow>=8 in /opt/conda/lib/python3.12/site-packages (from matplotlib) (11.2.1)\n",
      "Requirement already satisfied: pyparsing>=2.3.1 in /opt/conda/lib/python3.12/site-packages (from matplotlib) (3.2.3)\n",
      "Requirement already satisfied: scipy!=1.9.2,>=1.8 in /opt/conda/lib/python3.12/site-packages (from statsmodels) (1.15.2)\n",
      "Requirement already satisfied: patsy>=0.5.6 in /opt/conda/lib/python3.12/site-packages (from statsmodels) (1.0.1)\n",
      "Requirement already satisfied: six>=1.5 in /opt/conda/lib/python3.12/site-packages (from python-dateutil>=2.8.2->pandas) (1.17.0)\n",
      "Note: you may need to restart the kernel to use updated packages.\n"
     ]
    }
   ],
   "source": [
    "%pip install pandas matplotlib seaborn statsmodels"
   ]
  },
  {
   "cell_type": "code",
   "execution_count": 13,
   "id": "2f5029b0",
   "metadata": {},
   "outputs": [],
   "source": [
    "import sys\n",
    "import pandas as pd\n",
    "import os\n",
    "\n",
    "from sklearn.preprocessing import StandardScaler\n",
    "from sklearn.ensemble import RandomForestClassifier, VotingClassifier\n",
    "from sklearn.neighbors import KNeighborsClassifier\n",
    "from sklearn.linear_model import LogisticRegression\n",
    "from sklearn.model_selection import train_test_split\n",
    "from sklearn.preprocessing import LabelEncoder\n",
    "from sklearn.metrics import f1_score, classification_report"
   ]
  },
  {
   "cell_type": "code",
   "execution_count": 14,
   "id": "7dbd43c9",
   "metadata": {},
   "outputs": [],
   "source": [
    "# --- Set up the environment ---\n",
    "test_filename = os.path.join(os.getcwd(), 'ds04/assets/Test_knight.csv')\n",
    "train_filename = os.path.join(os.getcwd(), 'ds04/assets/Train_knight.csv')"
   ]
  },
  {
   "cell_type": "code",
   "execution_count": 15,
   "id": "61d2577b",
   "metadata": {},
   "outputs": [
    {
     "data": {
      "text/html": [
       "<div>\n",
       "<style scoped>\n",
       "    .dataframe tbody tr th:only-of-type {\n",
       "        vertical-align: middle;\n",
       "    }\n",
       "\n",
       "    .dataframe tbody tr th {\n",
       "        vertical-align: top;\n",
       "    }\n",
       "\n",
       "    .dataframe thead th {\n",
       "        text-align: right;\n",
       "    }\n",
       "</style>\n",
       "<table border=\"1\" class=\"dataframe\">\n",
       "  <thead>\n",
       "    <tr style=\"text-align: right;\">\n",
       "      <th></th>\n",
       "      <th>Sensitivity</th>\n",
       "      <th>Hability</th>\n",
       "      <th>Strength</th>\n",
       "      <th>Power</th>\n",
       "      <th>Agility</th>\n",
       "      <th>Dexterity</th>\n",
       "      <th>Awareness</th>\n",
       "      <th>Prescience</th>\n",
       "      <th>Reactivity</th>\n",
       "      <th>Midi-chlorien</th>\n",
       "      <th>...</th>\n",
       "      <th>Evade</th>\n",
       "      <th>Stims</th>\n",
       "      <th>Sprint</th>\n",
       "      <th>Combo</th>\n",
       "      <th>Delay</th>\n",
       "      <th>Attunement</th>\n",
       "      <th>Empowered</th>\n",
       "      <th>Burst</th>\n",
       "      <th>Grasping</th>\n",
       "      <th>knight</th>\n",
       "    </tr>\n",
       "  </thead>\n",
       "  <tbody>\n",
       "    <tr>\n",
       "      <th>0</th>\n",
       "      <td>11.80</td>\n",
       "      <td>17.26</td>\n",
       "      <td>75.26</td>\n",
       "      <td>431.9</td>\n",
       "      <td>0.09087</td>\n",
       "      <td>0.06232</td>\n",
       "      <td>0.02853</td>\n",
       "      <td>0.01638</td>\n",
       "      <td>0.1847</td>\n",
       "      <td>0.06019</td>\n",
       "      <td>...</td>\n",
       "      <td>24.49</td>\n",
       "      <td>86.00</td>\n",
       "      <td>562.0</td>\n",
       "      <td>0.1244</td>\n",
       "      <td>0.1726</td>\n",
       "      <td>0.1449</td>\n",
       "      <td>0.05356</td>\n",
       "      <td>0.2779</td>\n",
       "      <td>0.08121</td>\n",
       "      <td>Sith</td>\n",
       "    </tr>\n",
       "    <tr>\n",
       "      <th>1</th>\n",
       "      <td>19.81</td>\n",
       "      <td>22.15</td>\n",
       "      <td>130.00</td>\n",
       "      <td>1260.0</td>\n",
       "      <td>0.09831</td>\n",
       "      <td>0.10270</td>\n",
       "      <td>0.14790</td>\n",
       "      <td>0.09498</td>\n",
       "      <td>0.1582</td>\n",
       "      <td>0.05395</td>\n",
       "      <td>...</td>\n",
       "      <td>30.88</td>\n",
       "      <td>186.80</td>\n",
       "      <td>2398.0</td>\n",
       "      <td>0.1512</td>\n",
       "      <td>0.3150</td>\n",
       "      <td>0.5372</td>\n",
       "      <td>0.23880</td>\n",
       "      <td>0.2768</td>\n",
       "      <td>0.07615</td>\n",
       "      <td>Jedi</td>\n",
       "    </tr>\n",
       "    <tr>\n",
       "      <th>2</th>\n",
       "      <td>10.97</td>\n",
       "      <td>17.20</td>\n",
       "      <td>71.73</td>\n",
       "      <td>371.5</td>\n",
       "      <td>0.08915</td>\n",
       "      <td>0.11130</td>\n",
       "      <td>0.09457</td>\n",
       "      <td>0.03613</td>\n",
       "      <td>0.1489</td>\n",
       "      <td>0.06640</td>\n",
       "      <td>...</td>\n",
       "      <td>26.87</td>\n",
       "      <td>90.14</td>\n",
       "      <td>476.4</td>\n",
       "      <td>0.1391</td>\n",
       "      <td>0.4082</td>\n",
       "      <td>0.4779</td>\n",
       "      <td>0.15550</td>\n",
       "      <td>0.2540</td>\n",
       "      <td>0.09532</td>\n",
       "      <td>Sith</td>\n",
       "    </tr>\n",
       "  </tbody>\n",
       "</table>\n",
       "<p>3 rows × 31 columns</p>\n",
       "</div>"
      ],
      "text/plain": [
       "   Sensitivity  Hability  Strength   Power  Agility  Dexterity  Awareness  \\\n",
       "0        11.80     17.26     75.26   431.9  0.09087    0.06232    0.02853   \n",
       "1        19.81     22.15    130.00  1260.0  0.09831    0.10270    0.14790   \n",
       "2        10.97     17.20     71.73   371.5  0.08915    0.11130    0.09457   \n",
       "\n",
       "   Prescience  Reactivity  Midi-chlorien  ...  Evade   Stims  Sprint   Combo  \\\n",
       "0     0.01638      0.1847        0.06019  ...  24.49   86.00   562.0  0.1244   \n",
       "1     0.09498      0.1582        0.05395  ...  30.88  186.80  2398.0  0.1512   \n",
       "2     0.03613      0.1489        0.06640  ...  26.87   90.14   476.4  0.1391   \n",
       "\n",
       "    Delay  Attunement  Empowered   Burst  Grasping  knight  \n",
       "0  0.1726      0.1449    0.05356  0.2779   0.08121    Sith  \n",
       "1  0.3150      0.5372    0.23880  0.2768   0.07615    Jedi  \n",
       "2  0.4082      0.4779    0.15550  0.2540   0.09532    Sith  \n",
       "\n",
       "[3 rows x 31 columns]"
      ]
     },
     "execution_count": 15,
     "metadata": {},
     "output_type": "execute_result"
    }
   ],
   "source": [
    "# --- Load the data to pandas dataframes ---\n",
    "test_df = pd.read_csv(test_filename)\n",
    "train_df = pd.read_csv(train_filename)\n",
    "train_df.set_index('knight')\n",
    "train_df.head(3)"
   ]
  },
  {
   "cell_type": "code",
   "execution_count": 16,
   "id": "07ced3bb",
   "metadata": {},
   "outputs": [
    {
     "name": "stdout",
     "output_type": "stream",
     "text": [
      "[1 0 1 1 1]\n",
      "0    Sith\n",
      "1    Jedi\n",
      "2    Sith\n",
      "3    Sith\n",
      "4    Sith\n",
      "Name: knight, dtype: object\n"
     ]
    }
   ],
   "source": [
    "# --- Separate features and label ---\n",
    "le = LabelEncoder()\n",
    "scaler = StandardScaler()\n",
    "X = train_df.drop(columns=['knight'])\n",
    "X_scaled = pd.DataFrame(scaler.fit_transform(X), columns=X.columns)\n",
    "y = train_df['knight']\n",
    "y_encoded = le.fit_transform(y)  # 'Jedi' → 1, 'Sith' → 0 automatically\n",
    "\n",
    "# --- set up the train validation and test ---\n",
    "# X_train, X_val, y_train, y_val = train_test_split(X, y_encoded, test_size=0.2, random_state=42)\n",
    "# X_test = test_df.copy()\n",
    "\n",
    "X_train, X_val, y_train, y_val = train_test_split(X_scaled, y_encoded, test_size=0.2, random_state=42)\n",
    "X_test = pd.DataFrame(scaler.fit_transform(test_df), columns=X.columns)\n",
    "print(y_encoded[:5])\n",
    "print(y[:5])"
   ]
  },
  {
   "cell_type": "code",
   "execution_count": 17,
   "id": "d3508596",
   "metadata": {},
   "outputs": [
    {
     "name": "stdout",
     "output_type": "stream",
     "text": [
      "F1-score: 0.9792\n",
      "\n",
      "Classification Report:\n",
      "               precision    recall  f1-score   support\n",
      "\n",
      "        Jedi       1.00      0.94      0.97        33\n",
      "        Sith       0.96      1.00      0.98        47\n",
      "\n",
      "    accuracy                           0.97        80\n",
      "   macro avg       0.98      0.97      0.97        80\n",
      "weighted avg       0.98      0.97      0.97        80\n",
      "\n",
      "train prediction:  ['Sith' 'Sith' 'Sith' 'Sith' 'Sith' 'Sith' 'Sith' 'Sith' 'Jedi' 'Jedi']\n"
     ]
    }
   ],
   "source": [
    "# --- Define models ---\n",
    "rf = RandomForestClassifier(n_estimators=50, max_depth=4, random_state=42)\n",
    "knn = KNeighborsClassifier(n_neighbors=15)\n",
    "logreg = LogisticRegression(max_iter=500)\n",
    "\n",
    "# --- Voting Classifier ---\n",
    "voting = VotingClassifier(estimators=[\n",
    "    ('rf', rf),\n",
    "    ('knn', knn),\n",
    "    ('logreg', logreg)\n",
    "], voting='hard')\n",
    "\n",
    "# --- Train and evaluate ---\n",
    "voting.fit(X_train, y_train)\n",
    "y_val_pred = voting.predict(X_val)\n",
    "f1 = f1_score(y_val, y_val_pred)\n",
    "print(f\"F1-score: {f1:.4f}\")\n",
    "print(\"\\nClassification Report:\\n\", classification_report(y_val, y_val_pred, target_names=le.classes_))\n",
    "print(\"train prediction: \", le.inverse_transform(y_val_pred)[:10])"
   ]
  },
  {
   "cell_type": "code",
   "execution_count": 18,
   "id": "6af2f8db",
   "metadata": {},
   "outputs": [
    {
     "name": "stdout",
     "output_type": "stream",
     "text": [
      "\n",
      "--- RF ---\n",
      "accuracy:  0.975\n",
      "f1-score: 0.9742101869761444\n",
      "\n",
      "--- KNN ---\n",
      "accuracy:  0.975\n",
      "f1-score: 0.9739583333333333\n",
      "\n",
      "--- LOGREG ---\n",
      "accuracy:  0.975\n",
      "f1-score: 0.9739583333333333\n"
     ]
    }
   ],
   "source": [
    "# --- Show model classification report ---\n",
    "for name, model in voting.named_estimators_.items():\n",
    "    y_pred_detail = model.predict(X_val)\n",
    "    print(f\"\\n--- {name.upper()} ---\")\n",
    "    report = classification_report(y_val, y_pred_detail, target_names=le.classes_, output_dict=True)\n",
    "    print('accuracy: ', report['accuracy'])\n",
    "    print('f1-score:', report['macro avg']['f1-score'])"
   ]
  },
  {
   "cell_type": "code",
   "execution_count": 19,
   "id": "002cb538",
   "metadata": {},
   "outputs": [
    {
     "name": "stdout",
     "output_type": "stream",
     "text": [
      "[0 0 0 0 0 0 0 0 0 0]\n",
      "['Jedi' 'Jedi' 'Jedi' 'Jedi' 'Jedi' 'Jedi' 'Jedi' 'Jedi' 'Jedi' 'Jedi']\n"
     ]
    }
   ],
   "source": [
    "# --- Final training on full data ---\n",
    "voting.fit(X_scaled, y_encoded)\n",
    "\n",
    "# --- Predict on test set ---\n",
    "y_test_pred = voting.predict(test_df)\n",
    "predicted_labels = le.inverse_transform(y_test_pred)\n",
    "print(y_test_pred[:10])\n",
    "print(predicted_labels[:10])"
   ]
  },
  {
   "cell_type": "code",
   "execution_count": 20,
   "id": "54237a8c",
   "metadata": {},
   "outputs": [
    {
     "name": "stdout",
     "output_type": "stream",
     "text": [
      "Voting predictions saved to Voting.txt\n"
     ]
    }
   ],
   "source": [
    "# --- Export to Voting.txt ---\n",
    "dir = os.path.join(os.getcwd(), 'ds04/ex06')\n",
    "filename = os.path.join(dir, 'Voting.txt')\n",
    "\n",
    "with open(filename, \"w\") as f:\n",
    "    for label in predicted_labels:\n",
    "        f.write(label + '\\n')\n",
    "\n",
    "print(\"Voting predictions saved to Voting.txt\")"
   ]
  }
 ],
 "metadata": {
  "kernelspec": {
   "display_name": "Python 3 (ipykernel)",
   "language": "python",
   "name": "python3"
  },
  "language_info": {
   "codemirror_mode": {
    "name": "ipython",
    "version": 3
   },
   "file_extension": ".py",
   "mimetype": "text/x-python",
   "name": "python",
   "nbconvert_exporter": "python",
   "pygments_lexer": "ipython3",
   "version": "3.12.10"
  }
 },
 "nbformat": 4,
 "nbformat_minor": 5
}
