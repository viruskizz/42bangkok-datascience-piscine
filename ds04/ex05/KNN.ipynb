{
 "cells": [
  {
   "cell_type": "code",
   "execution_count": 9,
   "id": "8ad2c26c",
   "metadata": {},
   "outputs": [
    {
     "name": "stdout",
     "output_type": "stream",
     "text": [
      "Requirement already satisfied: pandas in /opt/conda/lib/python3.12/site-packages (2.2.3)\n",
      "Requirement already satisfied: matplotlib in /opt/conda/lib/python3.12/site-packages (3.10.1)\n",
      "Requirement already satisfied: scikit-learn in /opt/conda/lib/python3.12/site-packages (1.6.1)\n",
      "Requirement already satisfied: numpy>=1.26.0 in /opt/conda/lib/python3.12/site-packages (from pandas) (2.2.5)\n",
      "Requirement already satisfied: python-dateutil>=2.8.2 in /opt/conda/lib/python3.12/site-packages (from pandas) (2.9.0.post0)\n",
      "Requirement already satisfied: pytz>=2020.1 in /opt/conda/lib/python3.12/site-packages (from pandas) (2025.2)\n",
      "Requirement already satisfied: tzdata>=2022.7 in /opt/conda/lib/python3.12/site-packages (from pandas) (2025.2)\n",
      "Requirement already satisfied: contourpy>=1.0.1 in /opt/conda/lib/python3.12/site-packages (from matplotlib) (1.3.2)\n",
      "Requirement already satisfied: cycler>=0.10 in /opt/conda/lib/python3.12/site-packages (from matplotlib) (0.12.1)\n",
      "Requirement already satisfied: fonttools>=4.22.0 in /opt/conda/lib/python3.12/site-packages (from matplotlib) (4.57.0)\n",
      "Requirement already satisfied: kiwisolver>=1.3.1 in /opt/conda/lib/python3.12/site-packages (from matplotlib) (1.4.8)\n",
      "Requirement already satisfied: packaging>=20.0 in /opt/conda/lib/python3.12/site-packages (from matplotlib) (25.0)\n",
      "Requirement already satisfied: pillow>=8 in /opt/conda/lib/python3.12/site-packages (from matplotlib) (11.2.1)\n",
      "Requirement already satisfied: pyparsing>=2.3.1 in /opt/conda/lib/python3.12/site-packages (from matplotlib) (3.2.3)\n",
      "Requirement already satisfied: scipy>=1.6.0 in /opt/conda/lib/python3.12/site-packages (from scikit-learn) (1.15.2)\n",
      "Requirement already satisfied: joblib>=1.2.0 in /opt/conda/lib/python3.12/site-packages (from scikit-learn) (1.5.0)\n",
      "Requirement already satisfied: threadpoolctl>=3.1.0 in /opt/conda/lib/python3.12/site-packages (from scikit-learn) (3.6.0)\n",
      "Requirement already satisfied: six>=1.5 in /opt/conda/lib/python3.12/site-packages (from python-dateutil>=2.8.2->pandas) (1.17.0)\n",
      "Note: you may need to restart the kernel to use updated packages.\n"
     ]
    }
   ],
   "source": [
    "%pip install pandas matplotlib scikit-learn"
   ]
  },
  {
   "cell_type": "code",
   "execution_count": 10,
   "id": "9dea012b",
   "metadata": {},
   "outputs": [],
   "source": [
    "import os\n",
    "import pandas as pd\n",
    "import numpy as np\n",
    "import matplotlib.pyplot as plt\n",
    "from sklearn.neighbors import KNeighborsClassifier\n",
    "from sklearn.metrics import f1_score, classification_report, accuracy_score\n",
    "from sklearn.model_selection import train_test_split\n",
    "from sklearn.preprocessing import LabelEncoder\n",
    "from sklearn.preprocessing import StandardScaler"
   ]
  },
  {
   "cell_type": "code",
   "execution_count": 11,
   "id": "8167039e",
   "metadata": {},
   "outputs": [],
   "source": [
    "# --- Set up the environment ---\n",
    "test_filename = os.path.join(os.getcwd(), 'ds04/assets/Test_knight.csv')\n",
    "train_filename = os.path.join(os.getcwd(), 'ds04/assets/Train_knight.csv')"
   ]
  },
  {
   "cell_type": "code",
   "execution_count": 12,
   "id": "b0f85e07",
   "metadata": {},
   "outputs": [
    {
     "data": {
      "text/html": [
       "<div>\n",
       "<style scoped>\n",
       "    .dataframe tbody tr th:only-of-type {\n",
       "        vertical-align: middle;\n",
       "    }\n",
       "\n",
       "    .dataframe tbody tr th {\n",
       "        vertical-align: top;\n",
       "    }\n",
       "\n",
       "    .dataframe thead th {\n",
       "        text-align: right;\n",
       "    }\n",
       "</style>\n",
       "<table border=\"1\" class=\"dataframe\">\n",
       "  <thead>\n",
       "    <tr style=\"text-align: right;\">\n",
       "      <th></th>\n",
       "      <th>Sensitivity</th>\n",
       "      <th>Hability</th>\n",
       "      <th>Strength</th>\n",
       "      <th>Power</th>\n",
       "      <th>Agility</th>\n",
       "      <th>Dexterity</th>\n",
       "      <th>Awareness</th>\n",
       "      <th>Prescience</th>\n",
       "      <th>Reactivity</th>\n",
       "      <th>Midi-chlorien</th>\n",
       "      <th>...</th>\n",
       "      <th>Evade</th>\n",
       "      <th>Stims</th>\n",
       "      <th>Sprint</th>\n",
       "      <th>Combo</th>\n",
       "      <th>Delay</th>\n",
       "      <th>Attunement</th>\n",
       "      <th>Empowered</th>\n",
       "      <th>Burst</th>\n",
       "      <th>Grasping</th>\n",
       "      <th>knight</th>\n",
       "    </tr>\n",
       "  </thead>\n",
       "  <tbody>\n",
       "    <tr>\n",
       "      <th>0</th>\n",
       "      <td>11.80</td>\n",
       "      <td>17.26</td>\n",
       "      <td>75.26</td>\n",
       "      <td>431.9</td>\n",
       "      <td>0.09087</td>\n",
       "      <td>0.06232</td>\n",
       "      <td>0.02853</td>\n",
       "      <td>0.01638</td>\n",
       "      <td>0.1847</td>\n",
       "      <td>0.06019</td>\n",
       "      <td>...</td>\n",
       "      <td>24.49</td>\n",
       "      <td>86.00</td>\n",
       "      <td>562.0</td>\n",
       "      <td>0.1244</td>\n",
       "      <td>0.1726</td>\n",
       "      <td>0.1449</td>\n",
       "      <td>0.05356</td>\n",
       "      <td>0.2779</td>\n",
       "      <td>0.08121</td>\n",
       "      <td>Sith</td>\n",
       "    </tr>\n",
       "    <tr>\n",
       "      <th>1</th>\n",
       "      <td>19.81</td>\n",
       "      <td>22.15</td>\n",
       "      <td>130.00</td>\n",
       "      <td>1260.0</td>\n",
       "      <td>0.09831</td>\n",
       "      <td>0.10270</td>\n",
       "      <td>0.14790</td>\n",
       "      <td>0.09498</td>\n",
       "      <td>0.1582</td>\n",
       "      <td>0.05395</td>\n",
       "      <td>...</td>\n",
       "      <td>30.88</td>\n",
       "      <td>186.80</td>\n",
       "      <td>2398.0</td>\n",
       "      <td>0.1512</td>\n",
       "      <td>0.3150</td>\n",
       "      <td>0.5372</td>\n",
       "      <td>0.23880</td>\n",
       "      <td>0.2768</td>\n",
       "      <td>0.07615</td>\n",
       "      <td>Jedi</td>\n",
       "    </tr>\n",
       "    <tr>\n",
       "      <th>2</th>\n",
       "      <td>10.97</td>\n",
       "      <td>17.20</td>\n",
       "      <td>71.73</td>\n",
       "      <td>371.5</td>\n",
       "      <td>0.08915</td>\n",
       "      <td>0.11130</td>\n",
       "      <td>0.09457</td>\n",
       "      <td>0.03613</td>\n",
       "      <td>0.1489</td>\n",
       "      <td>0.06640</td>\n",
       "      <td>...</td>\n",
       "      <td>26.87</td>\n",
       "      <td>90.14</td>\n",
       "      <td>476.4</td>\n",
       "      <td>0.1391</td>\n",
       "      <td>0.4082</td>\n",
       "      <td>0.4779</td>\n",
       "      <td>0.15550</td>\n",
       "      <td>0.2540</td>\n",
       "      <td>0.09532</td>\n",
       "      <td>Sith</td>\n",
       "    </tr>\n",
       "  </tbody>\n",
       "</table>\n",
       "<p>3 rows × 31 columns</p>\n",
       "</div>"
      ],
      "text/plain": [
       "   Sensitivity  Hability  Strength   Power  Agility  Dexterity  Awareness  \\\n",
       "0        11.80     17.26     75.26   431.9  0.09087    0.06232    0.02853   \n",
       "1        19.81     22.15    130.00  1260.0  0.09831    0.10270    0.14790   \n",
       "2        10.97     17.20     71.73   371.5  0.08915    0.11130    0.09457   \n",
       "\n",
       "   Prescience  Reactivity  Midi-chlorien  ...  Evade   Stims  Sprint   Combo  \\\n",
       "0     0.01638      0.1847        0.06019  ...  24.49   86.00   562.0  0.1244   \n",
       "1     0.09498      0.1582        0.05395  ...  30.88  186.80  2398.0  0.1512   \n",
       "2     0.03613      0.1489        0.06640  ...  26.87   90.14   476.4  0.1391   \n",
       "\n",
       "    Delay  Attunement  Empowered   Burst  Grasping  knight  \n",
       "0  0.1726      0.1449    0.05356  0.2779   0.08121    Sith  \n",
       "1  0.3150      0.5372    0.23880  0.2768   0.07615    Jedi  \n",
       "2  0.4082      0.4779    0.15550  0.2540   0.09532    Sith  \n",
       "\n",
       "[3 rows x 31 columns]"
      ]
     },
     "execution_count": 12,
     "metadata": {},
     "output_type": "execute_result"
    }
   ],
   "source": [
    "# --- Load the data to pandas dataframes ---\n",
    "test_df = pd.read_csv(test_filename)\n",
    "train_df = pd.read_csv(train_filename)\n",
    "train_df.set_index('knight')\n",
    "train_df.head(3)"
   ]
  },
  {
   "cell_type": "code",
   "execution_count": 13,
   "id": "b82235d1",
   "metadata": {},
   "outputs": [],
   "source": [
    "# --- Separate features and label ---\n",
    "le = LabelEncoder()\n",
    "X = train_df.drop(columns=['knight'])\n",
    "y = train_df['knight']\n",
    "y_encoded = le.fit_transform(y)  # 'Jedi' → 1, 'Sith' → 0 automatically\n",
    "\n",
    "# --- set up the train validation and test ---\n",
    "X_train, X_val, y_train, y_val = train_test_split(X, y_encoded, test_size=0.2, random_state=42)\n",
    "X_test = test_df.copy()\n",
    "\n",
    "# scaler = StandardScaler()\n",
    "# X_train, X_val, y_train, y_val = train_test_split(scaler.fit_transform(X), y_encoded, test_size=0.2, random_state=42)\n",
    "# X_test = scaler.transform(test_df)"
   ]
  },
  {
   "cell_type": "code",
   "execution_count": 14,
   "id": "90aeb1e1",
   "metadata": {},
   "outputs": [
    {
     "name": "stdout",
     "output_type": "stream",
     "text": [
      "k=1, F1 Score=0.9388\n",
      "k=2, F1 Score=0.9783\n",
      "k=3, F1 Score=0.9583\n",
      "k=4, F1 Score=0.9677\n",
      "k=5, F1 Score=0.9474\n",
      "k=6, F1 Score=0.9677\n",
      "k=7, F1 Score=0.9485\n",
      "k=8, F1 Score=0.9684\n",
      "k=9, F1 Score=0.9691\n",
      "k=10, F1 Score=0.9792\n",
      "k=11, F1 Score=0.9691\n",
      "k=12, F1 Score=0.9792\n",
      "k=13, F1 Score=0.9792\n",
      "k=14, F1 Score=0.9792\n",
      "k=15, F1 Score=0.9792\n",
      "k=16, F1 Score=0.9792\n",
      "k=17, F1 Score=0.9691\n",
      "k=18, F1 Score=0.9792\n",
      "k=19, F1 Score=0.9691\n",
      "k=20, F1 Score=0.9691\n",
      "k=21, F1 Score=0.9592\n",
      "k=22, F1 Score=0.9592\n",
      "k=23, F1 Score=0.9592\n",
      "k=24, F1 Score=0.9592\n",
      "k=25, F1 Score=0.9592\n",
      "k=26, F1 Score=0.9592\n",
      "k=27, F1 Score=0.9495\n",
      "k=28, F1 Score=0.9495\n",
      "k=29, F1 Score=0.9495\n"
     ]
    }
   ],
   "source": [
    "# --- Try multiple k values and collect F1 scores ---\n",
    "f1_scores = []\n",
    "k_values = range(1, 30)\n",
    "\n",
    "for k in k_values:\n",
    "    model = KNeighborsClassifier(n_neighbors=k)\n",
    "    model.fit(X_train, y_train)\n",
    "    y_val_pred = model.predict(X_val)\n",
    "    f1 = f1_score(y_val, y_val_pred)\n",
    "    f1_scores.append(f1)\n",
    "    # Show the classification report\n",
    "    print(f'k={k}, F1 Score={f1:.4f}')"
   ]
  },
  {
   "cell_type": "code",
   "execution_count": 15,
   "id": "aceda4ea",
   "metadata": {},
   "outputs": [
    {
     "data": {
      "image/png": "[encoded data removed]",
      "text/plain": [
       "<Figure size 800x500 with 1 Axes>"
      ]
     },
     "metadata": {},
     "output_type": "display_data"
    }
   ],
   "source": [
    "# --- Plot k vs F1-score ---\n",
    "plt.figure(figsize=(8, 5))\n",
    "plt.plot(k_values, f1_scores, marker='o')\n",
    "plt.xlabel(\"k (Number of Neighbors)\")\n",
    "plt.ylabel(\"F1 Score\")\n",
    "plt.title(\"F1 Score vs. k\")\n",
    "plt.grid(True)\n",
    "plt.tight_layout()\n",
    "plt.show()"
   ]
  },
  {
   "cell_type": "code",
   "execution_count": 16,
   "id": "1f90fdbb",
   "metadata": {},
   "outputs": [
    {
     "name": "stdout",
     "output_type": "stream",
     "text": [
      "\n",
      "Best k: 10 with F1 Score: 0.9792\n"
     ]
    }
   ],
   "source": [
    "# --- Find best k ---\n",
    "best_k = k_values[np.argmax(f1_scores)]\n",
    "best_f1 = max(f1_scores)\n",
    "print(f\"\\nBest k: {best_k} with F1 Score: {best_f1:.4f}\")"
   ]
  },
  {
   "cell_type": "code",
   "execution_count": 17,
   "id": "90fb9c09",
   "metadata": {},
   "outputs": [
    {
     "name": "stdout",
     "output_type": "stream",
     "text": [
      "accuracy:  0.9875\n",
      "f1-score: 0.9870445344129555\n"
     ]
    }
   ],
   "source": [
    "# --- Retrain best model on full training set ---\n",
    "final_model = KNeighborsClassifier(n_neighbors=best_k)\n",
    "final_model.fit(X, y_encoded)\n",
    "y_val_pred = final_model.predict(X_val)\n",
    "report = classification_report(y_val, y_val_pred, target_names=le.classes_, output_dict=True)\n",
    "print('accuracy: ', report['accuracy'])\n",
    "print('f1-score:', report['macro avg']['f1-score'])"
   ]
  },
  {
   "cell_type": "code",
   "execution_count": 18,
   "id": "df0ba37b",
   "metadata": {},
   "outputs": [
    {
     "name": "stdout",
     "output_type": "stream",
     "text": [
      "['Sith' 'Jedi' 'Jedi' 'Sith' 'Jedi' 'Jedi' 'Jedi' 'Jedi' 'Jedi' 'Jedi']\n"
     ]
    }
   ],
   "source": [
    "# --- Predict on test set ---\n",
    "test_pred = final_model.predict(test_df)\n",
    "predicted_labels = le.inverse_transform(test_pred)\n",
    "print(predicted_labels[:10])"
   ]
  },
  {
   "cell_type": "code",
   "execution_count": 19,
   "id": "44cc64f5",
   "metadata": {},
   "outputs": [
    {
     "name": "stdout",
     "output_type": "stream",
     "text": [
      "Predictions saved to KNN.txt\n"
     ]
    }
   ],
   "source": [
    "# --- Export to KNN.txt ---\n",
    "dir = os.path.join(os.getcwd(), 'ds04/ex05')\n",
    "filename = os.path.join(dir, 'KNN.txt')\n",
    "\n",
    "with open(filename, \"w\") as f:\n",
    "    for label in predicted_labels:\n",
    "        f.write(label + \"\\n\")\n",
    "\n",
    "print(\"Predictions saved to KNN.txt\")"
   ]
  }
 ],
 "metadata": {
  "kernelspec": {
   "display_name": "Python 3 (ipykernel)",
   "language": "python",
   "name": "python3"
  },
  "language_info": {
   "codemirror_mode": {
    "name": "ipython",
    "version": 3
   },
   "file_extension": ".py",
   "mimetype": "text/x-python",
   "name": "python",
   "nbconvert_exporter": "python",
   "pygments_lexer": "ipython3",
   "version": "3.12.10"
  }
 },
 "nbformat": 4,
 "nbformat_minor": 5
}
