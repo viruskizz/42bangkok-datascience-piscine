{
 "cells": [
  {
   "cell_type": "code",
   "execution_count": 1,
   "id": "a10f0cc9-4cd5-4e14-b949-94e61a7d935c",
   "metadata": {
    "scrolled": true
   },
   "outputs": [
    {
     "name": "stdout",
     "output_type": "stream",
     "text": [
      "Requirement already satisfied: pandas in /opt/conda/lib/python3.12/site-packages (2.2.3)\n",
      "Requirement already satisfied: psycopg2-binary in /opt/conda/lib/python3.12/site-packages (2.9.10)\n",
      "Requirement already satisfied: sqlalchemy in /opt/conda/lib/python3.12/site-packages (2.0.40)\n",
      "Requirement already satisfied: matplotlib in /opt/conda/lib/python3.12/site-packages (3.10.1)\n",
      "Requirement already satisfied: numpy>=1.26.0 in /opt/conda/lib/python3.12/site-packages (from pandas) (2.2.5)\n",
      "Requirement already satisfied: python-dateutil>=2.8.2 in /opt/conda/lib/python3.12/site-packages (from pandas) (2.9.0.post0)\n",
      "Requirement already satisfied: pytz>=2020.1 in /opt/conda/lib/python3.12/site-packages (from pandas) (2025.2)\n",
      "Requirement already satisfied: tzdata>=2022.7 in /opt/conda/lib/python3.12/site-packages (from pandas) (2025.2)\n",
      "Requirement already satisfied: greenlet>=1 in /opt/conda/lib/python3.12/site-packages (from sqlalchemy) (3.2.1)\n",
      "Requirement already satisfied: typing-extensions>=4.6.0 in /opt/conda/lib/python3.12/site-packages (from sqlalchemy) (4.13.2)\n",
      "Requirement already satisfied: contourpy>=1.0.1 in /opt/conda/lib/python3.12/site-packages (from matplotlib) (1.3.2)\n",
      "Requirement already satisfied: cycler>=0.10 in /opt/conda/lib/python3.12/site-packages (from matplotlib) (0.12.1)\n",
      "Requirement already satisfied: fonttools>=4.22.0 in /opt/conda/lib/python3.12/site-packages (from matplotlib) (4.57.0)\n",
      "Requirement already satisfied: kiwisolver>=1.3.1 in /opt/conda/lib/python3.12/site-packages (from matplotlib) (1.4.8)\n",
      "Requirement already satisfied: packaging>=20.0 in /opt/conda/lib/python3.12/site-packages (from matplotlib) (25.0)\n",
      "Requirement already satisfied: pillow>=8 in /opt/conda/lib/python3.12/site-packages (from matplotlib) (11.2.1)\n",
      "Requirement already satisfied: pyparsing>=2.3.1 in /opt/conda/lib/python3.12/site-packages (from matplotlib) (3.2.3)\n",
      "Requirement already satisfied: six>=1.5 in /opt/conda/lib/python3.12/site-packages (from python-dateutil>=2.8.2->pandas) (1.17.0)\n"
     ]
    }
   ],
   "source": [
    "!pip install pandas psycopg2-binary sqlalchemy matplotlib"
   ]
  },
  {
   "cell_type": "code",
   "execution_count": 5,
   "id": "00235084-77cd-4a0a-b27b-d151af5a4e53",
   "metadata": {},
   "outputs": [],
   "source": [
    "import pandas as pd\n",
    "import psycopg2 as db\n",
    "from sqlalchemy import create_engine\n",
    "import matplotlib.pyplot as plt\n",
    "import matplotlib.ticker as ticker\n",
    "import os"
   ]
  },
  {
   "cell_type": "code",
   "execution_count": 6,
   "id": "ce44a214-bc9c-4c6d-9948-fe4adc46577e",
   "metadata": {},
   "outputs": [],
   "source": [
    "db_type = 'postgresql'\n",
    "host = 'database'\n",
    "port = 5432\n",
    "db_name = os.environ.get('POSTGRES_DB')\n",
    "user = os.environ.get('POSTGRES_USER')\n",
    "password = os.environ.get('POSTGRES_PASSWORD')\n",
    "\n",
    "conn_uri = f\"{db_type}://{user}:{password}@{host}:{port}/{db_name}\"\n",
    "alchemyEngine = create_engine(conn_uri)\n",
    "db_conn = alchemyEngine.connect();"
   ]
  },
  {
   "cell_type": "code",
   "execution_count": 7,
   "id": "fd511c5f-2c48-435a-bbb1-e82731352ad1",
   "metadata": {},
   "outputs": [
    {
     "data": {
      "text/html": [
       "<div>\n",
       "<style scoped>\n",
       "    .dataframe tbody tr th:only-of-type {\n",
       "        vertical-align: middle;\n",
       "    }\n",
       "\n",
       "    .dataframe tbody tr th {\n",
       "        vertical-align: top;\n",
       "    }\n",
       "\n",
       "    .dataframe thead th {\n",
       "        text-align: right;\n",
       "    }\n",
       "</style>\n",
       "<table border=\"1\" class=\"dataframe\">\n",
       "  <thead>\n",
       "    <tr style=\"text-align: right;\">\n",
       "      <th></th>\n",
       "      <th>event_type</th>\n",
       "      <th>count</th>\n",
       "    </tr>\n",
       "  </thead>\n",
       "  <tbody>\n",
       "    <tr>\n",
       "      <th>0</th>\n",
       "      <td>cart</td>\n",
       "      <td>4392838</td>\n",
       "    </tr>\n",
       "    <tr>\n",
       "      <th>1</th>\n",
       "      <td>purchase</td>\n",
       "      <td>1044131</td>\n",
       "    </tr>\n",
       "    <tr>\n",
       "      <th>2</th>\n",
       "      <td>remove_from_cart</td>\n",
       "      <td>2196659</td>\n",
       "    </tr>\n",
       "    <tr>\n",
       "      <th>3</th>\n",
       "      <td>view</td>\n",
       "      <td>7682377</td>\n",
       "    </tr>\n",
       "  </tbody>\n",
       "</table>\n",
       "</div>"
      ],
      "text/plain": [
       "         event_type    count\n",
       "0              cart  4392838\n",
       "1          purchase  1044131\n",
       "2  remove_from_cart  2196659\n",
       "3              view  7682377"
      ]
     },
     "execution_count": 7,
     "metadata": {},
     "output_type": "execute_result"
    }
   ],
   "source": [
    "\"\"\" Playgound\"\"\"\n",
    "db_conn = alchemyEngine.connect();\n",
    "query = \"\"\"\n",
    "    SELECT event_type, COUNT(*)\n",
    "    FROM customers\n",
    "    GROUP BY event_type\n",
    "\"\"\"\n",
    "df = pd.read_sql(query, db_conn)\n",
    "# print(df.describe())\n",
    "df.head()"
   ]
  },
  {
   "cell_type": "code",
   "execution_count": 24,
   "id": "f5c091b2-297c-4d2f-b45d-71db58cfae9c",
   "metadata": {},
   "outputs": [
    {
     "name": "stdout",
     "output_type": "stream",
     "text": [
      "               price\n",
      "count  1044131.00000\n",
      "mean         4.92108\n",
      "std          8.85439\n",
      "min        -79.37000\n",
      "25%          1.59000\n",
      "50%          3.00000\n",
      "75%          5.40000\n",
      "max        327.78000\n"
     ]
    }
   ],
   "source": [
    "\"\"\" Show Stat \"\"\"\n",
    "db_conn = alchemyEngine.connect();\n",
    "query = \"\"\"\n",
    "    SELECT price\n",
    "    FROM customers\n",
    "    WHERE event_type = 'purchase'\n",
    "        AND event_time between '2022-10-01' AND '2023-02-28'\n",
    "\"\"\"\n",
    "df = pd.read_sql(query, db_conn)\n",
    "print(df.describe().apply(lambda s: s.apply('{0:.5f}'.format)))"
   ]
  },
  {
   "cell_type": "code",
   "execution_count": 23,
   "id": "52ece5c8-286d-4b6f-8d76-69b91e1cc3c3",
   "metadata": {},
   "outputs": [
    {
     "data": {
      "image/png": "[encoded data removed]",
      "text/plain": [
       "<Figure size 640x480 with 1 Axes>"
      ]
     },
     "metadata": {},
     "output_type": "display_data"
    }
   ],
   "source": [
    "\"\"\" Box Plot \"\"\"\n",
    "db_conn = alchemyEngine.connect();\n",
    "query = \"\"\"\n",
    "    SELECT event_time, price\n",
    "    FROM customers\n",
    "    WHERE event_type = 'purchase'\n",
    "        AND event_time between '2022-10-01' AND '2023-02-28'\n",
    "\"\"\"\n",
    "df = pd.read_sql(query, db_conn)\n",
    "ax = df.plot(\n",
    "    kind='box',\n",
    "    column='price',\n",
    "    vert=False,\n",
    "    xlim=(-2, 14)\n",
    ")\n",
    "plt.show()"
   ]
  },
  {
   "cell_type": "code",
   "execution_count": 22,
   "id": "13d0ed61-268c-4ce4-baeb-f35197e68362",
   "metadata": {},
   "outputs": [
    {
     "name": "stdout",
     "output_type": "stream",
     "text": [
      "             avg\n",
      "count  123.00000\n",
      "mean    40.69282\n",
      "std      2.84466\n",
      "min     33.69557\n",
      "25%     39.09366\n",
      "50%     40.83460\n",
      "75%     42.50083\n",
      "max     53.30081\n"
     ]
    },
    {
     "data": {
      "image/png": "[encoded data removed]",
      "text/plain": [
       "<Figure size 640x480 with 1 Axes>"
      ]
     },
     "metadata": {},
     "output_type": "display_data"
    }
   ],
   "source": [
    "\"\"\" Average basket price per user \"\"\"\n",
    "query = \"\"\"\n",
    "    SELECT AVG(purchase) as avg, date\n",
    "    FROM (\n",
    "        SELECT\n",
    "            event_time::date AS date,\n",
    "            user_id AS uid,\n",
    "            SUM(price) AS purchase\n",
    "        FROM customers\n",
    "        WHERE event_time between '2022-10-01' AND '2023-02-28'\n",
    "            AND event_type = 'purchase'\n",
    "        GROUP BY date, user_id\n",
    "        ORDER BY date ASC\n",
    "    )\n",
    "    GROUP BY date\n",
    "    ORDER BY date ASC\n",
    "\"\"\"\n",
    "df = pd.read_sql(query, db_conn)\n",
    "print(df.describe().apply(lambda s: s.apply('{0:.5f}'.format)))\n",
    "ax = df.plot(\n",
    "    kind='box',\n",
    "    column='avg',\n",
    "    vert=False,\n",
    ")\n",
    "plt.show()"
   ]
  },
  {
   "cell_type": "code",
   "execution_count": null,
   "id": "5ac232e3-e4f1-4c89-bc65-f9ab9f0dfcf8",
   "metadata": {},
   "outputs": [],
   "source": []
  }
 ],
 "metadata": {
  "kernelspec": {
   "display_name": "Python 3 (ipykernel)",
   "language": "python",
   "name": "python3"
  },
  "language_info": {
   "codemirror_mode": {
    "name": "ipython",
    "version": 3
   },
   "file_extension": ".py",
   "mimetype": "text/x-python",
   "name": "python",
   "nbconvert_exporter": "python",
   "pygments_lexer": "ipython3",
   "version": "3.12.10"
  }
 },
 "nbformat": 4,
 "nbformat_minor": 5
}
